{
 "cells": [
  {
   "cell_type": "code",
   "execution_count": 17,
   "id": "3e48215c",
   "metadata": {},
   "outputs": [],
   "source": [
    "from bs4 import BeautifulSoup\n",
    "import requests\n",
    "import pandas as pd\n",
    "from pandas import DataFrame"
   ]
  },
  {
   "cell_type": "code",
   "execution_count": 18,
   "id": "9855c8ae",
   "metadata": {},
   "outputs": [],
   "source": [
    "url = 'https://www.engineeringnz.org/courses-events'\n",
    "response = requests.get(url)\n",
    "soup = BeautifulSoup(response.content,'html.parser')"
   ]
  },
  {
   "cell_type": "code",
   "execution_count": 19,
   "id": "2a855d9d",
   "metadata": {},
   "outputs": [],
   "source": [
    "title = []\n",
    "date_time = []\n",
    "price = []\n",
    "CPD_Hours= []\n",
    "reg=[]"
   ]
  },
  {
   "cell_type": "code",
   "execution_count": 20,
   "id": "7be2f2b5",
   "metadata": {},
   "outputs": [],
   "source": [
    "course_data = soup.findAll('div',attrs={'class':'width-1/2@xsmall width-1/3@medium'})"
   ]
  },
  {
   "cell_type": "code",
   "execution_count": 21,
   "id": "0ed69d49",
   "metadata": {},
   "outputs": [],
   "source": [
    "for store in course_data:\n",
    "    titles  = store.h5.text.replace('\\n','').strip()\n",
    "    title.append(titles)\n",
    "    \n",
    "    cost = store.a.p.text.replace('\\n','').strip()\n",
    "    price.append(cost)\n",
    "    \n",
    "    Hours_elems=store.a.find_all('p', class_= 'u-text-xs u-text-medium u-text-right')\n",
    "    Hours =[elem.get_text() for elem in Hours_elems]\n",
    "    \n",
    "    \n",
    "    CPD_Hours.append(Hours)"
   ]
  },
  {
   "cell_type": "code",
   "execution_count": 22,
   "id": "057e4776",
   "metadata": {},
   "outputs": [],
   "source": [
    "CPD =\" \".join([str(item) for item in CPD_Hours])\n",
    "CPD = CPD.replace(\"\\\\n\",\"\")\n",
    "CPD = CPD.replace(\"  \",\"\")\n",
    "CPD = CPD.replace(\"[\",\"\")\n",
    "CPD = CPD.replace(\"]\",\",\")\n",
    "CPD = CPD.replace(\"hrs\",\".\")\n",
    "CPD = CPD.replace(\"hr\",\".\")\n",
    "CPD = CPD.replace(\"mins\",\"\")\n",
    "CPD = CPD.replace(\"'\",\"\")\n",
    "CPD = CPD.replace(\" \",\"\")\n",
    "CPD = CPD.replace(\"CPD\",\"\")\n",
    "\n"
   ]
  },
  {
   "cell_type": "code",
   "execution_count": 23,
   "id": "314ff836",
   "metadata": {},
   "outputs": [],
   "source": [
    "def CPD_Convert(string):\n",
    "    li = list(string.split(\",\"))\n",
    "    return li"
   ]
  },
  {
   "cell_type": "code",
   "execution_count": 24,
   "id": "29f3a6a0",
   "metadata": {},
   "outputs": [],
   "source": [
    "def date_timeConvert(string):\n",
    "    li = list(string.split(\":\"))\n",
    "    return li"
   ]
  },
  {
   "cell_type": "code",
   "execution_count": 25,
   "id": "ebf78eb8",
   "metadata": {},
   "outputs": [],
   "source": [
    "CPD = CPD_Convert(CPD)"
   ]
  },
  {
   "cell_type": "code",
   "execution_count": 26,
   "id": "eefbf836",
   "metadata": {},
   "outputs": [],
   "source": [
    "calender = soup.findAll('p',attrs={'class':'t-color-light-grey u-text-uppercase u-space-xs'})"
   ]
  },
  {
   "cell_type": "code",
   "execution_count": 27,
   "id": "5d0610da",
   "metadata": {},
   "outputs": [],
   "source": [
    "for store in calender:\n",
    "    date_elems = store\n",
    "    date =[elem.get_text() for elem in date_elems]\n",
    "    date_time.append(date)\n"
   ]
  },
  {
   "cell_type": "code",
   "execution_count": 28,
   "id": "791ac83c",
   "metadata": {},
   "outputs": [],
   "source": [
    "date_time =\" \".join([str(item) for item in date_time])\n",
    "date_time = date_time.replace(\"[\",\"\")\n",
    "date_time = date_time.replace(\"]\",\":\")\n",
    "date_time = date_time.replace(\"'\",\"\")\n",
    "\n"
   ]
  },
  {
   "cell_type": "code",
   "execution_count": 29,
   "id": "99d835e2",
   "metadata": {},
   "outputs": [],
   "source": [
    "date_time =date_timeConvert(date_time)"
   ]
  },
  {
   "cell_type": "code",
   "execution_count": 30,
   "id": "344445c7",
   "metadata": {},
   "outputs": [
    {
     "data": {
      "text/plain": [
       "['19 may 2022, 5.00PM',\n",
       " ' 19 may 2022, 5.30PM',\n",
       " ' 19 may 2022, 5.30PM',\n",
       " ' 19 may 2022, 7.30PM',\n",
       " ' 20 may 2022, 12.00PM',\n",
       " ' 23 may 2022, 9.00AM',\n",
       " ' 24 may 2022, 9.00AM',\n",
       " ' 24 may 2022, 12.00PM',\n",
       " ' 24 may 2022, 4.00PM',\n",
       " '']"
      ]
     },
     "execution_count": 30,
     "metadata": {},
     "output_type": "execute_result"
    }
   ],
   "source": [
    "date_time"
   ]
  },
  {
   "cell_type": "code",
   "execution_count": 31,
   "id": "02ccedd9",
   "metadata": {},
   "outputs": [],
   "source": [
    "reg_link = soup.findAll('a',class_='link-complex link--no-style',href=True)"
   ]
  },
  {
   "cell_type": "code",
   "execution_count": 32,
   "id": "ecd70b4d",
   "metadata": {},
   "outputs": [
    {
     "ename": "TypeError",
     "evalue": "can only concatenate str (not \"Tag\") to str",
     "output_type": "error",
     "traceback": [
      "\u001b[1;31m---------------------------------------------------------------------------\u001b[0m",
      "\u001b[1;31mTypeError\u001b[0m                                 Traceback (most recent call last)",
      "\u001b[1;32mC:\\Users\\TOMTHA~1\\AppData\\Local\\Temp/ipykernel_13444/1679583745.py\u001b[0m in \u001b[0;36m<module>\u001b[1;34m\u001b[0m\n\u001b[0;32m      2\u001b[0m \u001b[1;33m\u001b[0m\u001b[0m\n\u001b[0;32m      3\u001b[0m     \u001b[0madd_abs\u001b[0m \u001b[1;33m=\u001b[0m \u001b[1;34m'https://www.engineeringnz.org'\u001b[0m\u001b[1;33m\u001b[0m\u001b[1;33m\u001b[0m\u001b[0m\n\u001b[1;32m----> 4\u001b[1;33m     \u001b[0mlinks\u001b[0m \u001b[1;33m=\u001b[0m \u001b[0madd_abs\u001b[0m \u001b[1;33m+\u001b[0m \u001b[0mlinks\u001b[0m\u001b[1;33m\u001b[0m\u001b[1;33m\u001b[0m\u001b[0m\n\u001b[0m\u001b[0;32m      5\u001b[0m     \u001b[0mreg\u001b[0m\u001b[1;33m.\u001b[0m\u001b[0mappend\u001b[0m\u001b[1;33m(\u001b[0m\u001b[0mlinks\u001b[0m\u001b[1;33m.\u001b[0m\u001b[0mget\u001b[0m\u001b[1;33m(\u001b[0m\u001b[1;34m'href'\u001b[0m\u001b[1;33m)\u001b[0m\u001b[1;33m)\u001b[0m\u001b[1;33m\u001b[0m\u001b[1;33m\u001b[0m\u001b[0m\n",
      "\u001b[1;31mTypeError\u001b[0m: can only concatenate str (not \"Tag\") to str"
     ]
    }
   ],
   "source": [
    "# for links in reg_link:\n",
    "#  reg.append(links.get('href'))"
   ]
  },
  {
   "cell_type": "code",
   "execution_count": null,
   "id": "34b17fe4",
   "metadata": {},
   "outputs": [],
   "source": [
    "reg =\",\".join([str(item) for item in reg])"
   ]
  },
  {
   "cell_type": "code",
   "execution_count": null,
   "id": "d8e53ca9",
   "metadata": {},
   "outputs": [],
   "source": [
    "reg = CPD_Convert(reg)"
   ]
  },
  {
   "cell_type": "code",
   "execution_count": null,
   "id": "ef1c0247",
   "metadata": {},
   "outputs": [],
   "source": [
    "result = list(zip(title,price,CPD,date_time,reg))\n",
    "result\n",
    "\n",
    "df = pd.set_option('display.max_rows',5000)\n",
    "df = pd.set_option('display.max_columns',5000)\n",
    "df = pd.set_option('display.width',100000)\n",
    "df = pd.DataFrame(result, columns=['Webinar Title','Price','CPD Points','Date and Time','Registration Link'])\n",
    "\n",
    "df.head(30)\n",
    "\n"
   ]
  }
 ],
 "metadata": {
  "interpreter": {
   "hash": "5101eace850034c79140fc195938a71a8c5954d4111ec43cc0138fd08655b29c"
  },
  "kernelspec": {
   "display_name": "Python 3.9.7 ('base')",
   "language": "python",
   "name": "python3"
  },
  "language_info": {
   "codemirror_mode": {
    "name": "ipython",
    "version": 3
   },
   "file_extension": ".py",
   "mimetype": "text/x-python",
   "name": "python",
   "nbconvert_exporter": "python",
   "pygments_lexer": "ipython3",
   "version": "3.9.7"
  }
 },
 "nbformat": 4,
 "nbformat_minor": 5
}
