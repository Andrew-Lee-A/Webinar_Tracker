{
 "cells": [
  {
   "cell_type": "code",
   "execution_count": 1,
   "id": "3e48215c",
   "metadata": {},
   "outputs": [],
   "source": [
    "from bs4 import BeautifulSoup\n",
    "import requests\n",
    "import pandas as pd\n",
    "import re"
   ]
  },
  {
   "cell_type": "code",
   "execution_count": 2,
   "id": "9855c8ae",
   "metadata": {},
   "outputs": [],
   "source": [
    "url = 'https://www.engineeringnz.org/courses-events'\n",
    "response = requests.get(url)\n",
    "soup = BeautifulSoup(response.content,'html.parser')"
   ]
  },
  {
   "cell_type": "code",
   "execution_count": 3,
   "id": "2a855d9d",
   "metadata": {},
   "outputs": [],
   "source": [
    "title = []\n",
    "date_time= []\n",
    "price = []\n",
    "CPD_Hours= []"
   ]
  },
  {
   "cell_type": "code",
   "execution_count": 4,
   "id": "7be2f2b5",
   "metadata": {},
   "outputs": [],
   "source": [
    "course_data = soup.findAll('div',attrs={'class':'width-1/2@xsmall width-1/3@medium'})"
   ]
  },
  {
   "cell_type": "code",
   "execution_count": 5,
   "id": "0ed69d49",
   "metadata": {},
   "outputs": [],
   "source": [
    "for store in course_data:\n",
    "    titles  = store.h5.text.replace('\\n','').strip()\n",
    "    title.append(titles)\n",
    "    \n",
    "    cost = store.a.p.text.replace('\\n','').strip()\n",
    "    price.append(cost)\n",
    "    \n",
    "    datetime = store.a.findAll('p', class_='t-color-light-grey u-text-uppercase u-space-xs')\n",
    "    date_time.append(datetime)\n",
    "    \n",
    "    Hours_elems=store.a.find('p', class_= 'u-text-xs u-text-medium u-text-right')\n",
    "    Hours =[elem.get_text() for elem in Hours_elems]\n",
    "    \n",
    "    CPD_Hours.append(Hours)"
   ]
  },
  {
   "cell_type": "code",
   "execution_count": 6,
   "id": "45841e46",
   "metadata": {},
   "outputs": [
    {
     "data": {
      "text/plain": [
       "[\"Auckland's draft parking strategy\",\n",
       " 'Dunedin quiz night',\n",
       " 'Timber Design Society | Laboratory Visit',\n",
       " 'Continuous Commissioning Specialist',\n",
       " 'A day in the life of a fire safety engineer',\n",
       " 'Relationship Management in Construction',\n",
       " 'Unsaturated Soil Mechanics for Slope Failures',\n",
       " 'Decarbonizing distribution transformers',\n",
       " 'Women in leadership panel']"
      ]
     },
     "execution_count": 6,
     "metadata": {},
     "output_type": "execute_result"
    }
   ],
   "source": [
    "title"
   ]
  },
  {
   "cell_type": "code",
   "execution_count": 7,
   "id": "3b65deb2",
   "metadata": {},
   "outputs": [
    {
     "data": {
      "text/plain": [
       "['Free', 'Free', 'Free', '$1794.00', 'Free', 'Free', 'Free', 'Free', 'Free']"
      ]
     },
     "execution_count": 7,
     "metadata": {},
     "output_type": "execute_result"
    }
   ],
   "source": [
    "price"
   ]
  },
  {
   "cell_type": "code",
   "execution_count": 8,
   "id": "057e4776",
   "metadata": {},
   "outputs": [
    {
     "data": {
      "text/plain": [
       "\"['1 CPD hrs'] ['2 hrs 30 mins'] ['2 hrs'] ['9 CPD hrs'] ['1 CPD hrs'] ['1.5 CPD hrs'] ['1 hr'] ['1 CPD hrs'] ['1 hr 30 mins']\""
      ]
     },
     "execution_count": 8,
     "metadata": {},
     "output_type": "execute_result"
    }
   ],
   "source": [
    "CPD =\" \".join([str(item) for item in CPD_Hours])\n",
    "CPD = \" \".join(CPD.split())\n",
    "CPD = CPD.replace(\"\\\\n\",\"\")\n",
    "CPD = CPD.replace(\"  \",\"\")\n",
    "CPD"
   ]
  },
  {
   "cell_type": "code",
   "execution_count": 9,
   "id": "ef1c0247",
   "metadata": {},
   "outputs": [
    {
     "data": {
      "text/plain": [
       "[]"
      ]
     },
     "execution_count": 9,
     "metadata": {},
     "output_type": "execute_result"
    }
   ],
   "source": [
    "datetime"
   ]
  }
 ],
 "metadata": {
  "interpreter": {
   "hash": "5101eace850034c79140fc195938a71a8c5954d4111ec43cc0138fd08655b29c"
  },
  "kernelspec": {
   "display_name": "Python 3.9.7 ('base')",
   "language": "python",
   "name": "python3"
  },
  "language_info": {
   "codemirror_mode": {
    "name": "ipython",
    "version": 3
   },
   "file_extension": ".py",
   "mimetype": "text/x-python",
   "name": "python",
   "nbconvert_exporter": "python",
   "pygments_lexer": "ipython3",
   "version": "3.9.7"
  }
 },
 "nbformat": 4,
 "nbformat_minor": 5
}
